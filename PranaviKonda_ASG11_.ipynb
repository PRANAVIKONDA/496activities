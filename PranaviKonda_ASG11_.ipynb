{
  "nbformat": 4,
  "nbformat_minor": 0,
  "metadata": {
    "colab": {
      "name": "PranaviKonda_ASG11 .ipynb",
      "provenance": [],
      "mount_file_id": "1ff2sXOUTsRJifMrB7uelY5PzjpT1jme1",
      "authorship_tag": "ABX9TyPTqxftLmIzTBb/BYOOVORV",
      "include_colab_link": true
    },
    "kernelspec": {
      "name": "python3",
      "display_name": "Python 3"
    },
    "language_info": {
      "name": "python"
    }
  },
  "cells": [
    {
      "cell_type": "markdown",
      "metadata": {
        "id": "view-in-github",
        "colab_type": "text"
      },
      "source": [
        "<a href=\"https://colab.research.google.com/github/PRANAVIKONDA/496activities/blob/main/PranaviKonda_ASG11_.ipynb\" target=\"_parent\"><img src=\"https://colab.research.google.com/assets/colab-badge.svg\" alt=\"Open In Colab\"/></a>"
      ]
    },
    {
      "cell_type": "code",
      "execution_count": 32,
      "metadata": {
        "colab": {
          "base_uri": "https://localhost:8080/"
        },
        "id": "gNXxxtzpZA-W",
        "outputId": "bc13e589-459c-4ee6-9ff5-473c59a0b9f2"
      },
      "outputs": [
        {
          "output_type": "stream",
          "name": "stdout",
          "text": [
            "Index(['A', 'B', 'C', 'D', 'E', 'F', 'G', 'H', 'I', 'J', 'EOP'], dtype='object', name='tasks')\n",
            "tasks         A         B         C         D         E         F         G  \\\n",
            "0      6.967435  4.974239  3.259119  2.245056  6.371313  4.318033  6.030300   \n",
            "1      7.895321  4.551144  2.804463  2.793953  6.052946  2.836312  6.953176   \n",
            "\n",
            "tasks         H          I         J  EOP  \n",
            "0      3.525367  12.278948  1.952855  NaN  \n",
            "1      7.811489  15.691045  2.696215  NaN  \n"
          ]
        }
      ],
      "source": [
        "import pandas as pd\n",
        "import tensorflow_probability as tfp\n",
        "tfd = tfp.distributions\n",
        "\n",
        "tasksDF=pd.read_csv('/content/drive/MyDrive/PERT-CPM.csv')\n",
        "taskNames=tasksDF['tasks']\n",
        "\n",
        "simulationDF=pd.DataFrame(columns=taskNames)\n",
        "\n",
        "print(simulationDF.columns)\n",
        "for index, task in tasksDF.iterrows():\n",
        "  dist=tfd.PERT(low=task['best'], peak=task['mostL'], high=task['worst'], temperature=4)\n",
        "  simulationDF[task['tasks']]=dist.sample(10000)\n",
        "\n",
        "print(simulationDF.head(2))"
      ]
    },
    {
      "cell_type": "code",
      "source": [
        "paths=['ADEJ','BCDEJ','BCFGJ','BCFHJ','BI']\n",
        "pathsDF=pd.DataFrame(columns=paths)\n",
        "\n",
        "ADEJ=[]\n",
        "BCDEJ=[]\n",
        "BCFGJ=[]\n",
        "BCFHJ=[]\n",
        "BI=[]\n",
        "for index, row in simulationDF.iterrows():\n",
        "  ADEJ.append(row['A']+row['D']+row['E']+row['J'])\n",
        "  BCDEJ.append(row['B']+row['C']+row['D']+row['E']+row['J'])\n",
        "  BCFGJ.append(row['B']+row['C']+row['F']+row['G']+row['J'])\n",
        "  BCFHJ.append(row['B']+row['C']+row['F']+row['H']+row['J'])\n",
        "  BI.append(row['B']+row['I'])\n",
        "\n",
        "pathsDF['ADEJ']=ADEJ\n",
        "pathsDF['BCDEJ']=BCDEJ\n",
        "pathsDF['BCFGJ']=BCFGJ\n",
        "pathsDF['BCFHJ']=BCFHJ\n",
        "pathsDF['BI']=BI\n",
        "print(pathsDF.head(3))"
      ],
      "metadata": {
        "colab": {
          "base_uri": "https://localhost:8080/"
        },
        "id": "yCpWVdIicGW1",
        "outputId": "9842b715-2bcd-4b86-c086-4ede13ee5bac"
      },
      "execution_count": 33,
      "outputs": [
        {
          "output_type": "stream",
          "name": "stdout",
          "text": [
            "        ADEJ      BCDEJ      BCFGJ      BCFHJ         BI\n",
            "0  17.536659  18.802582  20.534546  18.029613  17.253187\n",
            "1  19.438435  18.898720  19.841311  20.699623  20.242188\n",
            "2  17.739811  20.086483  20.560093  16.065271  16.335636\n"
          ]
        }
      ]
    },
    {
      "cell_type": "code",
      "source": [
        "pathsDF['Critical Path'].value_counts().plot.bar()"
      ],
      "metadata": {
        "colab": {
          "base_uri": "https://localhost:8080/",
          "height": 303
        },
        "id": "y2qZJWSWF0f1",
        "outputId": "dce93269-a518-4142-ad70-efe95c9060bf"
      },
      "execution_count": 35,
      "outputs": [
        {
          "output_type": "execute_result",
          "data": {
            "text/plain": [
              "<matplotlib.axes._subplots.AxesSubplot at 0x7f61e7130f10>"
            ]
          },
          "metadata": {},
          "execution_count": 35
        },
        {
          "output_type": "display_data",
          "data": {
            "text/plain": [
              "<Figure size 432x288 with 1 Axes>"
            ],
            "image/png": "[encoded data removed]"
          },
          "metadata": {
            "needs_background": "light"
          }
        }
      ]
    }
  ]
}