{
  "nbformat": 4,
  "nbformat_minor": 0,
  "metadata": {
    "colab": {
      "name": "PranaviK_NaiveB_Activity.ipynb",
      "provenance": [],
      "authorship_tag": "ABX9TyMbbYFRhpiHUZrL6hwBcQ7A",
      "include_colab_link": true
    },
    "kernelspec": {
      "name": "python3",
      "display_name": "Python 3"
    },
    "language_info": {
      "name": "python"
    }
  },
  "cells": [
    {
      "cell_type": "markdown",
      "metadata": {
        "id": "view-in-github",
        "colab_type": "text"
      },
      "source": [
        "<a href=\"https://colab.research.google.com/github/PRANAVIKONDA/496activities/blob/main/PranaviK_NaiveB_Activity.ipynb\" target=\"_parent\"><img src=\"https://colab.research.google.com/assets/colab-badge.svg\" alt=\"Open In Colab\"/></a>"
      ]
    },
    {
      "cell_type": "code",
      "execution_count": 5,
      "metadata": {
        "colab": {
          "base_uri": "https://localhost:8080/"
        },
        "id": "qog3pFq5xMc9",
        "outputId": "5f5437b4-93a8-4e01-8eb6-23c5f279bf95"
      },
      "outputs": [
        {
          "output_type": "stream",
          "name": "stdout",
          "text": [
            "Number of mislabelled points out of the total 150 points: 6\n",
            "col_0   0   1   2\n",
            "row_0            \n",
            "0      50   0   0\n",
            "1       0  47   3\n",
            "2       0   3  47\n"
          ]
        }
      ],
      "source": [
        "from sklearn import datasets\n",
        "import pandas as pd\n",
        "iris = datasets.load_iris() \n",
        "from sklearn.naive_bayes import GaussianNB\n",
        "gnb = GaussianNB()\n",
        "y_pred = gnb.fit(iris.data, iris.target). predict(iris.data)\n",
        "print(\"Number of mislabelled points out of the total %d points: %d\" % ( iris.data.shape[0], ( iris.target !=y_pred).sum()))\n",
        "print(pd.crosstab(gnb.predict(iris.data), iris.target))"
      ]
    }
  ]
}